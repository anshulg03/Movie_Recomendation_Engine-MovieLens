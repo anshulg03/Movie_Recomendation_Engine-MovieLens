{
 "cells": [
  {
   "cell_type": "code",
   "execution_count": 2,
   "metadata": {
    "collapsed": true
   },
   "outputs": [],
   "source": [
    "import pandas as pd\n",
    "import numpy as np\n",
    "from sklearn.model_selection import train_test_split"
   ]
  },
  {
   "cell_type": "code",
   "execution_count": 3,
   "metadata": {
    "collapsed": true
   },
   "outputs": [],
   "source": [
    "data = pd.read_csv('movies.csv', index_col=0)\n",
    "rating = pd.read_csv('ratings.csv')\n",
    "data_genres = data['genres'].str.get_dummies('|')\n",
    "rating.drop(['timestamp','userId'], axis = 1, inplace=True)\n",
    "Rate = rating.groupby('movieId').agg(['mean', 'count'])"
   ]
  },
  {
   "cell_type": "code",
   "execution_count": 4,
   "metadata": {
    "collapsed": true
   },
   "outputs": [],
   "source": [
    "data = pd.concat([data,Rate], axis = 1)\n",
    "#data_genres = pd.concat([data_genres, Rate], axis = 1)\n",
    "data.rename(columns = {('rating', 'count'):'RateCount', ('rating','mean'):'AvgRating'}, inplace = True)\n",
    "#data_genres.rename(columns = {('rating', 'count'):'RateCount', ('rating','mean'):'AvgRating'}, inplace = True)\n",
    "#data_genres.fillna(0, inplace=True)\n",
    "data.fillna(0, inplace = True)"
   ]
  },
  {
   "cell_type": "code",
   "execution_count": 5,
   "metadata": {
    "collapsed": true
   },
   "outputs": [],
   "source": [
    "import re\n",
    "for idx in data.index:\n",
    "    try:\n",
    "        data.loc[data.index == idx, 'Year'] =  re.findall(r\"\\((\\d{4})\\)\",data.title[idx])\n",
    "    except:\n",
    "        pass\n",
    "\n",
    "data['Year'] = pd.to_numeric(data['Year'], errors= 'raise')\n",
    "#data.loc[data['Year'] == 1, 'Year'] = int(data.Year.mean())"
   ]
  },
  {
   "cell_type": "code",
   "execution_count": 6,
   "metadata": {
    "collapsed": true
   },
   "outputs": [],
   "source": [
    "def Top10(X, Y = 0):\n",
    "    data1 = data_genres[data_genres[X] == 1]\n",
    "    data2 = data[(data['Year'] >= Y) & (data.RateCount > 30)].sort_values('AvgRating', ascending = False)\n",
    "    return (pd.concat([data1, data2], axis = 1, join = \"inner\")).ix[:,'title':'Year'].head(10)"
   ]
  },
  {
   "cell_type": "markdown",
   "metadata": {},
   "source": [
    "### Recommendation based on Genre and Year\n",
    "'Action', 'Adventure', 'Animation', 'Children','Comedy', 'Crime', 'Documentary', 'Drama', 'Fantasy', 'Film-Noir',\n",
    "'Horror', 'IMAX', 'Musical', 'Mystery', 'Romance', 'Sci-Fi', 'Thriller', 'War', 'Western'"
   ]
  },
  {
   "cell_type": "code",
   "execution_count": 7,
   "metadata": {},
   "outputs": [
    {
     "data": {
      "text/html": [
       "<div>\n",
       "<table border=\"1\" class=\"dataframe\">\n",
       "  <thead>\n",
       "    <tr style=\"text-align: right;\">\n",
       "      <th></th>\n",
       "      <th>title</th>\n",
       "      <th>genres</th>\n",
       "      <th>AvgRating</th>\n",
       "      <th>RateCount</th>\n",
       "      <th>Year</th>\n",
       "    </tr>\n",
       "    <tr>\n",
       "      <th>movieId</th>\n",
       "      <th></th>\n",
       "      <th></th>\n",
       "      <th></th>\n",
       "      <th></th>\n",
       "      <th></th>\n",
       "    </tr>\n",
       "  </thead>\n",
       "  <tbody>\n",
       "    <tr>\n",
       "      <th>4973</th>\n",
       "      <td>Amelie (Fabuleux destin d'Amélie Poulain, Le) ...</td>\n",
       "      <td>Comedy|Romance</td>\n",
       "      <td>4.096000</td>\n",
       "      <td>125.0</td>\n",
       "      <td>2001.0</td>\n",
       "    </tr>\n",
       "    <tr>\n",
       "      <th>78499</th>\n",
       "      <td>Toy Story 3 (2010)</td>\n",
       "      <td>Adventure|Animation|Children|Comedy|Fantasy|IMAX</td>\n",
       "      <td>4.071429</td>\n",
       "      <td>42.0</td>\n",
       "      <td>2010.0</td>\n",
       "    </tr>\n",
       "    <tr>\n",
       "      <th>4011</th>\n",
       "      <td>Snatch (2000)</td>\n",
       "      <td>Comedy|Crime|Thriller</td>\n",
       "      <td>4.036842</td>\n",
       "      <td>95.0</td>\n",
       "      <td>2000.0</td>\n",
       "    </tr>\n",
       "    <tr>\n",
       "      <th>109374</th>\n",
       "      <td>Grand Budapest Hotel, The (2014)</td>\n",
       "      <td>Comedy|Drama</td>\n",
       "      <td>4.028571</td>\n",
       "      <td>35.0</td>\n",
       "      <td>2014.0</td>\n",
       "    </tr>\n",
       "    <tr>\n",
       "      <th>3481</th>\n",
       "      <td>High Fidelity (2000)</td>\n",
       "      <td>Comedy|Drama|Romance</td>\n",
       "      <td>3.960227</td>\n",
       "      <td>88.0</td>\n",
       "      <td>2000.0</td>\n",
       "    </tr>\n",
       "    <tr>\n",
       "      <th>57669</th>\n",
       "      <td>In Bruges (2008)</td>\n",
       "      <td>Comedy|Crime|Drama|Thriller</td>\n",
       "      <td>3.947368</td>\n",
       "      <td>38.0</td>\n",
       "      <td>2008.0</td>\n",
       "    </tr>\n",
       "    <tr>\n",
       "      <th>44195</th>\n",
       "      <td>Thank You for Smoking (2006)</td>\n",
       "      <td>Comedy|Drama</td>\n",
       "      <td>3.912500</td>\n",
       "      <td>40.0</td>\n",
       "      <td>2006.0</td>\n",
       "    </tr>\n",
       "    <tr>\n",
       "      <th>46578</th>\n",
       "      <td>Little Miss Sunshine (2006)</td>\n",
       "      <td>Adventure|Comedy|Drama</td>\n",
       "      <td>3.907895</td>\n",
       "      <td>76.0</td>\n",
       "      <td>2006.0</td>\n",
       "    </tr>\n",
       "    <tr>\n",
       "      <th>4886</th>\n",
       "      <td>Monsters, Inc. (2001)</td>\n",
       "      <td>Adventure|Animation|Children|Comedy|Fantasy</td>\n",
       "      <td>3.884615</td>\n",
       "      <td>130.0</td>\n",
       "      <td>2001.0</td>\n",
       "    </tr>\n",
       "    <tr>\n",
       "      <th>4027</th>\n",
       "      <td>O Brother, Where Art Thou? (2000)</td>\n",
       "      <td>Adventure|Comedy|Crime</td>\n",
       "      <td>3.875000</td>\n",
       "      <td>96.0</td>\n",
       "      <td>2000.0</td>\n",
       "    </tr>\n",
       "  </tbody>\n",
       "</table>\n",
       "</div>"
      ],
      "text/plain": [
       "                                                     title  \\\n",
       "movieId                                                      \n",
       "4973     Amelie (Fabuleux destin d'Amélie Poulain, Le) ...   \n",
       "78499                                   Toy Story 3 (2010)   \n",
       "4011                                         Snatch (2000)   \n",
       "109374                    Grand Budapest Hotel, The (2014)   \n",
       "3481                                  High Fidelity (2000)   \n",
       "57669                                     In Bruges (2008)   \n",
       "44195                         Thank You for Smoking (2006)   \n",
       "46578                          Little Miss Sunshine (2006)   \n",
       "4886                                 Monsters, Inc. (2001)   \n",
       "4027                     O Brother, Where Art Thou? (2000)   \n",
       "\n",
       "                                                   genres  AvgRating  \\\n",
       "movieId                                                                \n",
       "4973                                       Comedy|Romance   4.096000   \n",
       "78499    Adventure|Animation|Children|Comedy|Fantasy|IMAX   4.071429   \n",
       "4011                                Comedy|Crime|Thriller   4.036842   \n",
       "109374                                       Comedy|Drama   4.028571   \n",
       "3481                                 Comedy|Drama|Romance   3.960227   \n",
       "57669                         Comedy|Crime|Drama|Thriller   3.947368   \n",
       "44195                                        Comedy|Drama   3.912500   \n",
       "46578                              Adventure|Comedy|Drama   3.907895   \n",
       "4886          Adventure|Animation|Children|Comedy|Fantasy   3.884615   \n",
       "4027                               Adventure|Comedy|Crime   3.875000   \n",
       "\n",
       "         RateCount    Year  \n",
       "movieId                     \n",
       "4973         125.0  2001.0  \n",
       "78499         42.0  2010.0  \n",
       "4011          95.0  2000.0  \n",
       "109374        35.0  2014.0  \n",
       "3481          88.0  2000.0  \n",
       "57669         38.0  2008.0  \n",
       "44195         40.0  2006.0  \n",
       "46578         76.0  2006.0  \n",
       "4886         130.0  2001.0  \n",
       "4027          96.0  2000.0  "
      ]
     },
     "execution_count": 7,
     "metadata": {},
     "output_type": "execute_result"
    }
   ],
   "source": [
    "Top10('Comedy', 2000)"
   ]
  },
  {
   "cell_type": "code",
   "execution_count": 8,
   "metadata": {
    "collapsed": true
   },
   "outputs": [],
   "source": [
    "def search(movie):\n",
    "    x = pd.DataFrame([])\n",
    "    for i in data.title:\n",
    "        if movie.lower() in i.lower():\n",
    "            x = x.append(data.loc[data.title == i])   \n",
    "    return (x)"
   ]
  },
  {
   "cell_type": "markdown",
   "metadata": {},
   "source": [
    "### Search a movie by name"
   ]
  },
  {
   "cell_type": "code",
   "execution_count": 9,
   "metadata": {},
   "outputs": [
    {
     "data": {
      "text/html": [
       "<div>\n",
       "<table border=\"1\" class=\"dataframe\">\n",
       "  <thead>\n",
       "    <tr style=\"text-align: right;\">\n",
       "      <th></th>\n",
       "      <th>title</th>\n",
       "      <th>genres</th>\n",
       "      <th>AvgRating</th>\n",
       "      <th>RateCount</th>\n",
       "      <th>Year</th>\n",
       "    </tr>\n",
       "    <tr>\n",
       "      <th>movieId</th>\n",
       "      <th></th>\n",
       "      <th></th>\n",
       "      <th></th>\n",
       "      <th></th>\n",
       "      <th></th>\n",
       "    </tr>\n",
       "  </thead>\n",
       "  <tbody>\n",
       "    <tr>\n",
       "      <th>79132</th>\n",
       "      <td>Inception (2010)</td>\n",
       "      <td>Action|Crime|Drama|Mystery|Sci-Fi|Thriller|IMAX</td>\n",
       "      <td>4.04955</td>\n",
       "      <td>111.0</td>\n",
       "      <td>2010.0</td>\n",
       "    </tr>\n",
       "  </tbody>\n",
       "</table>\n",
       "</div>"
      ],
      "text/plain": [
       "                    title                                           genres  \\\n",
       "movieId                                                                      \n",
       "79132    Inception (2010)  Action|Crime|Drama|Mystery|Sci-Fi|Thriller|IMAX   \n",
       "\n",
       "         AvgRating  RateCount    Year  \n",
       "movieId                                \n",
       "79132      4.04955      111.0  2010.0  "
      ]
     },
     "execution_count": 9,
     "metadata": {},
     "output_type": "execute_result"
    }
   ],
   "source": [
    "search('Inception')"
   ]
  },
  {
   "cell_type": "code",
   "execution_count": 241,
   "metadata": {
    "collapsed": true
   },
   "outputs": [],
   "source": [
    "#train, test = train_test_split(data_genres, test_size = 0.3)\n",
    "from sklearn.cluster import KMeans\n",
    "model = KMeans(n_clusters=7,max_iter=500)\n",
    "model.fit(data_genres)\n",
    "predict = model.predict(data_genres)\n",
    "#model.score(test)"
   ]
  },
  {
   "cell_type": "code",
   "execution_count": 243,
   "metadata": {},
   "outputs": [
    {
     "data": {
      "text/plain": [
       "(9125,)"
      ]
     },
     "execution_count": 243,
     "metadata": {},
     "output_type": "execute_result"
    }
   ],
   "source": [
    "predict.shape"
   ]
  },
  {
   "cell_type": "code",
   "execution_count": 235,
   "metadata": {
    "collapsed": true
   },
   "outputs": [],
   "source": [
    "movie_group = data_genres.copy()"
   ]
  },
  {
   "cell_type": "code",
   "execution_count": 245,
   "metadata": {},
   "outputs": [
    {
     "ename": "SyntaxError",
     "evalue": "invalid syntax (<ipython-input-245-96b35644a06d>, line 1)",
     "output_type": "error",
     "traceback": [
      "\u001b[1;36m  File \u001b[1;32m\"<ipython-input-245-96b35644a06d>\"\u001b[1;36m, line \u001b[1;32m1\u001b[0m\n\u001b[1;33m    data_genres['Group'] = (predict, index = data_genres.index)\u001b[0m\n\u001b[1;37m                                           ^\u001b[0m\n\u001b[1;31mSyntaxError\u001b[0m\u001b[1;31m:\u001b[0m invalid syntax\n"
     ]
    }
   ],
   "source": [
    "data_genres['Group'] = (predict, index = data_genres.index)"
   ]
  },
  {
   "cell_type": "code",
   "execution_count": null,
   "metadata": {
    "collapsed": true
   },
   "outputs": [],
   "source": []
  }
 ],
 "metadata": {
  "kernelspec": {
   "display_name": "Python [conda root]",
   "language": "python",
   "name": "conda-root-py"
  },
  "language_info": {
   "codemirror_mode": {
    "name": "ipython",
    "version": 3
   },
   "file_extension": ".py",
   "mimetype": "text/x-python",
   "name": "python",
   "nbconvert_exporter": "python",
   "pygments_lexer": "ipython3",
   "version": "3.5.3"
  }
 },
 "nbformat": 4,
 "nbformat_minor": 2
}
