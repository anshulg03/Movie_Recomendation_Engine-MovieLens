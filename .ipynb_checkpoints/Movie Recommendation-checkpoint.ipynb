{
 "cells": [
  {
   "cell_type": "code",
   "execution_count": 206,
   "metadata": {},
   "outputs": [],
   "source": [
    "import pandas as pd\n",
    "import numpy as np\n",
    "from sklearn.model_selection import train_test_split"
   ]
  },
  {
   "cell_type": "code",
   "execution_count": 207,
   "metadata": {},
   "outputs": [],
   "source": [
    "data = pd.read_csv('movies.csv', index_col=0)\n",
    "rating = pd.read_csv('ratings.csv')\n",
    "data_genres = data['genres'].str.get_dummies('|')\n",
    "rating.drop(['timestamp','userId'], axis = 1, inplace=True)\n",
    "Rate = rating.groupby('movieId').agg(['mean', 'count'])"
   ]
  },
  {
   "cell_type": "code",
   "execution_count": 208,
   "metadata": {},
   "outputs": [],
   "source": [
    "data = pd.concat([data,Rate], axis = 1)\n",
    "#data_genres = pd.concat([data_genres, Rate], axis = 1)\n",
    "data.rename(columns = {('rating', 'count'):'RateCount', ('rating','mean'):'AvgRating'}, inplace = True)\n",
    "#data_genres.rename(columns = {('rating', 'count'):'RateCount', ('rating','mean'):'AvgRating'}, inplace = True)\n",
    "#data_genres.fillna(0, inplace=True)\n",
    "data.fillna(0, inplace = True)"
   ]
  },
  {
   "cell_type": "code",
   "execution_count": 209,
   "metadata": {},
   "outputs": [],
   "source": [
    "import re\n",
    "for idx in data.index:\n",
    "    try:\n",
    "        data.loc[data.index == idx, 'Year'] =  re.findall(r\"\\((\\d{4})\\)\",data.title[idx])\n",
    "    except:\n",
    "        pass\n",
    "\n",
    "data['Year'] = pd.to_numeric(data['Year'], errors= 'raise')\n",
    "#data.loc[data['Year'] == 1, 'Year'] = int(data.Year.mean())"
   ]
  },
  {
   "cell_type": "code",
   "execution_count": 213,
   "metadata": {},
   "outputs": [],
   "source": [
    "def Top10(X, Y = 0):\n",
    "    data1 = data_genres[data_genres[X] == 1]\n",
    "    data2 = data[(data['Year'] >= Y) & (data.RateCount > 30)].sort_values('AvgRating', ascending = False)\n",
    "    return (pd.concat([data1, data2], axis = 1, join = \"inner\")).ix[:,'title':'Year'].head(10)"
   ]
  },
  {
   "cell_type": "markdown",
   "metadata": {},
   "source": [
    "### Recommendation based on Genre and Year\n",
    "'Action', 'Adventure', 'Animation', 'Children','Comedy', 'Crime', 'Documentary', 'Drama', 'Fantasy', 'Film-Noir',\n",
    "'Horror', 'IMAX', 'Musical', 'Mystery', 'Romance', 'Sci-Fi', 'Thriller', 'War', 'Western'"
   ]
  },
  {
   "cell_type": "code",
   "execution_count": 248,
   "metadata": {},
   "outputs": [
    {
     "data": {
      "text/html": [
       "<div>\n",
       "<table border=\"1\" class=\"dataframe\">\n",
       "  <thead>\n",
       "    <tr style=\"text-align: right;\">\n",
       "      <th></th>\n",
       "      <th>title</th>\n",
       "      <th>genres</th>\n",
       "      <th>AvgRating</th>\n",
       "      <th>RateCount</th>\n",
       "      <th>Year</th>\n",
       "    </tr>\n",
       "    <tr>\n",
       "      <th>movieId</th>\n",
       "      <th></th>\n",
       "      <th></th>\n",
       "      <th></th>\n",
       "      <th></th>\n",
       "      <th></th>\n",
       "    </tr>\n",
       "  </thead>\n",
       "  <tbody>\n",
       "    <tr>\n",
       "      <th>32587</th>\n",
       "      <td>Sin City (2005)</td>\n",
       "      <td>Action|Crime|Film-Noir|Mystery|Thriller</td>\n",
       "      <td>3.950000</td>\n",
       "      <td>80.0</td>\n",
       "      <td>2005.0</td>\n",
       "    </tr>\n",
       "    <tr>\n",
       "      <th>4848</th>\n",
       "      <td>Mulholland Drive (2001)</td>\n",
       "      <td>Crime|Drama|Film-Noir|Mystery|Thriller</td>\n",
       "      <td>3.705128</td>\n",
       "      <td>39.0</td>\n",
       "      <td>2001.0</td>\n",
       "    </tr>\n",
       "  </tbody>\n",
       "</table>\n",
       "</div>"
      ],
      "text/plain": [
       "                           title                                   genres  \\\n",
       "movieId                                                                     \n",
       "32587            Sin City (2005)  Action|Crime|Film-Noir|Mystery|Thriller   \n",
       "4848     Mulholland Drive (2001)   Crime|Drama|Film-Noir|Mystery|Thriller   \n",
       "\n",
       "         AvgRating  RateCount    Year  \n",
       "movieId                                \n",
       "32587     3.950000       80.0  2005.0  \n",
       "4848      3.705128       39.0  2001.0  "
      ]
     },
     "execution_count": 248,
     "metadata": {},
     "output_type": "execute_result"
    }
   ],
   "source": [
    "Top10('Film-Noir', 2000)"
   ]
  },
  {
   "cell_type": "code",
   "execution_count": 221,
   "metadata": {},
   "outputs": [],
   "source": [
    "def search(movie):\n",
    "    x = pd.DataFrame([])\n",
    "    for i in data.title:\n",
    "        if movie.lower() in i.lower():\n",
    "            x = x.append(data.loc[data.title == i])   \n",
    "    return (x)"
   ]
  },
  {
   "cell_type": "markdown",
   "metadata": {},
   "source": [
    "### Search a movie by name"
   ]
  },
  {
   "cell_type": "code",
   "execution_count": 222,
   "metadata": {},
   "outputs": [
    {
     "data": {
      "text/html": [
       "<div>\n",
       "<table border=\"1\" class=\"dataframe\">\n",
       "  <thead>\n",
       "    <tr style=\"text-align: right;\">\n",
       "      <th></th>\n",
       "      <th>title</th>\n",
       "      <th>genres</th>\n",
       "      <th>AvgRating</th>\n",
       "      <th>RateCount</th>\n",
       "      <th>Year</th>\n",
       "    </tr>\n",
       "    <tr>\n",
       "      <th>movieId</th>\n",
       "      <th></th>\n",
       "      <th></th>\n",
       "      <th></th>\n",
       "      <th></th>\n",
       "      <th></th>\n",
       "    </tr>\n",
       "  </thead>\n",
       "  <tbody>\n",
       "    <tr>\n",
       "      <th>79132</th>\n",
       "      <td>Inception (2010)</td>\n",
       "      <td>Action|Crime|Drama|Mystery|Sci-Fi|Thriller|IMAX</td>\n",
       "      <td>4.04955</td>\n",
       "      <td>111.0</td>\n",
       "      <td>2010.0</td>\n",
       "    </tr>\n",
       "  </tbody>\n",
       "</table>\n",
       "</div>"
      ],
      "text/plain": [
       "                    title                                           genres  \\\n",
       "movieId                                                                      \n",
       "79132    Inception (2010)  Action|Crime|Drama|Mystery|Sci-Fi|Thriller|IMAX   \n",
       "\n",
       "         AvgRating  RateCount    Year  \n",
       "movieId                                \n",
       "79132      4.04955      111.0  2010.0  "
      ]
     },
     "execution_count": 222,
     "metadata": {},
     "output_type": "execute_result"
    }
   ],
   "source": [
    "search('Inception')"
   ]
  },
  {
   "cell_type": "code",
   "execution_count": 241,
   "metadata": {},
   "outputs": [],
   "source": [
    "#train, test = train_test_split(data_genres, test_size = 0.3)\n",
    "from sklearn.cluster import KMeans\n",
    "model = KMeans(n_clusters=7,max_iter=500)\n",
    "model.fit(data_genres)\n",
    "predict = model.predict(data_genres)\n",
    "#model.score(test)"
   ]
  },
  {
   "cell_type": "code",
   "execution_count": 243,
   "metadata": {},
   "outputs": [
    {
     "data": {
      "text/plain": [
       "(9125,)"
      ]
     },
     "execution_count": 243,
     "metadata": {},
     "output_type": "execute_result"
    }
   ],
   "source": [
    "predict.shape"
   ]
  },
  {
   "cell_type": "code",
   "execution_count": 235,
   "metadata": {},
   "outputs": [],
   "source": [
    "movie_group = data_genres.copy()"
   ]
  },
  {
   "cell_type": "code",
   "execution_count": 245,
   "metadata": {},
   "outputs": [
    {
     "ename": "SyntaxError",
     "evalue": "invalid syntax (<ipython-input-245-96b35644a06d>, line 1)",
     "output_type": "error",
     "traceback": [
      "\u001b[1;36m  File \u001b[1;32m\"<ipython-input-245-96b35644a06d>\"\u001b[1;36m, line \u001b[1;32m1\u001b[0m\n\u001b[1;33m    data_genres['Group'] = (predict, index = data_genres.index)\u001b[0m\n\u001b[1;37m                                           ^\u001b[0m\n\u001b[1;31mSyntaxError\u001b[0m\u001b[1;31m:\u001b[0m invalid syntax\n"
     ]
    }
   ],
   "source": [
    "data_genres['Group'] = (predict, index = data_genres.index)"
   ]
  },
  {
   "cell_type": "code",
   "execution_count": null,
   "metadata": {
    "collapsed": true
   },
   "outputs": [],
   "source": []
  }
 ],
 "metadata": {
  "kernelspec": {
   "display_name": "Python [conda root]",
   "language": "python",
   "name": "conda-root-py"
  },
  "language_info": {
   "codemirror_mode": {
    "name": "ipython",
    "version": 3
   },
   "file_extension": ".py",
   "mimetype": "text/x-python",
   "name": "python",
   "nbconvert_exporter": "python",
   "pygments_lexer": "ipython3",
   "version": "3.5.3"
  }
 },
 "nbformat": 4,
 "nbformat_minor": 2
}
