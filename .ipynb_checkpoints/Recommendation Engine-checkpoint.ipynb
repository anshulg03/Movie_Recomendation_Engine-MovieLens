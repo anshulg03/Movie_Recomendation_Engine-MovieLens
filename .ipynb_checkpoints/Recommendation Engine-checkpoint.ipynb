{
 "cells": [
  {
   "cell_type": "markdown",
   "metadata": {},
   "source": [
    "# Necessary Imports"
   ]
  },
  {
   "cell_type": "code",
   "execution_count": 1,
   "metadata": {},
   "outputs": [],
   "source": [
    "import pandas as pd\n",
    "import numpy as np\n",
    "from sklearn.metrics.pairwise import pairwise_distances\n",
    "from sklearn.metrics import mean_squared_error\n",
    "import matplotlib.pyplot as plt"
   ]
  },
  {
   "cell_type": "markdown",
   "metadata": {},
   "source": [
    "# Reading the data"
   ]
  },
  {
   "cell_type": "code",
   "execution_count": 2,
   "metadata": {},
   "outputs": [],
   "source": [
    "columns = ['user_id', 'item_id', 'rating', 'timestamp']\n",
    "user_data = pd.read_csv('ml-100k/u.data', sep = '\\t',names = columns)\n",
    "movie_data = pd.read_csv('ml-100k/u.item', delimiter = '|', encoding = 'ISO-8859-1',header = None)\n",
    "movie_data = movie_data.ix[:,:1]\n",
    "movie_data.columns = ['item_id','movie_name']\n",
    "movie_data_genre = pd.read_csv('ml-100k/u.item', delimiter = '|', encoding = 'ISO-8859-1',header = None)"
   ]
  },
  {
   "cell_type": "markdown",
   "metadata": {},
   "source": [
    "# Getting Movie Genre List"
   ]
  },
  {
   "cell_type": "code",
   "execution_count": 3,
   "metadata": {},
   "outputs": [],
   "source": [
    "movie_data_genre = movie_data_genre.ix[ :,5:]\n",
    "movie_data_genre.columns = ['unknown','Action' , 'Adventure','Animation',\n",
    "              \"Children's\",'Comedy','Crime' ,'Documentary','Drama','Fantasy',\n",
    "              'Film-Noir','Horror','Musical','Mystery','Romance','Sci-Fi',\n",
    "              'Thriller','War','Western']"
   ]
  },
  {
   "cell_type": "markdown",
   "metadata": {},
   "source": [
    "# Appending movie genre list into the  dataframe"
   ]
  },
  {
   "cell_type": "code",
   "execution_count": 4,
   "metadata": {
    "collapsed": true
   },
   "outputs": [],
   "source": [
    "movie_data_genre.index = range(1,len(movie_data_genre.index)+1)\n",
    "genre_movie = []\n",
    "genre =[]\n",
    "c=1\n",
    "for i in movie_data_genre:\n",
    "    for j in movie_data_genre[i]:\n",
    "        c += 1\n",
    "        if j == 1:\n",
    "            genre_movie.append(c)\n",
    "    genre.append(genre_movie)\n",
    "    genre_movie = []\n",
    "    c=1\n",
    "genre_list = []\n",
    "genres = []\n",
    "genre_dict ={}\n",
    "for i,k in zip(genre,movie_data_genre.columns):\n",
    "        genre_dict[k] = i\n",
    "genre_final = {}\n",
    "lst = []\n",
    "for i in range(1,len(movie_data_genre)+1):\n",
    "    for key,value in genre_dict.items():\n",
    "        for j in value:\n",
    "            if j == i:\n",
    "                lst.append(key)\n",
    "    if lst == []:\n",
    "        genre_final[i] = 'unknown'\n",
    "    else:\n",
    "        el = ''\n",
    "        for l in lst:\n",
    "            el += l + ' '\n",
    "        genre_final[i] = el      \n",
    "    lst = []          "
   ]
  },
  {
   "cell_type": "code",
   "execution_count": 5,
   "metadata": {
    "collapsed": true
   },
   "outputs": [],
   "source": [
    "movie_genre = pd.DataFrame() \n",
    "movie_genre = movie_genre.from_dict(genre_final,orient='index')\n",
    "movie_genre.columns = ['genre']\n",
    "movie_genre.index = range(0,len(movie_genre))"
   ]
  },
  {
   "cell_type": "code",
   "execution_count": 6,
   "metadata": {
    "collapsed": true
   },
   "outputs": [],
   "source": [
    "movie_data = movie_data.join(movie_genre , on='item_id')"
   ]
  },
  {
   "cell_type": "code",
   "execution_count": 7,
   "metadata": {},
   "outputs": [
    {
     "data": {
      "text/html": [
       "<div>\n",
       "<table border=\"1\" class=\"dataframe\">\n",
       "  <thead>\n",
       "    <tr style=\"text-align: right;\">\n",
       "      <th></th>\n",
       "      <th>item_id</th>\n",
       "      <th>movie_name</th>\n",
       "      <th>genre</th>\n",
       "    </tr>\n",
       "  </thead>\n",
       "  <tbody>\n",
       "    <tr>\n",
       "      <th>0</th>\n",
       "      <td>1</td>\n",
       "      <td>Toy Story (1995)</td>\n",
       "      <td>Comedy Children's Animation</td>\n",
       "    </tr>\n",
       "    <tr>\n",
       "      <th>1</th>\n",
       "      <td>2</td>\n",
       "      <td>GoldenEye (1995)</td>\n",
       "      <td>Adventure Thriller Action</td>\n",
       "    </tr>\n",
       "    <tr>\n",
       "      <th>2</th>\n",
       "      <td>3</td>\n",
       "      <td>Four Rooms (1995)</td>\n",
       "      <td>Thriller</td>\n",
       "    </tr>\n",
       "    <tr>\n",
       "      <th>3</th>\n",
       "      <td>4</td>\n",
       "      <td>Get Shorty (1995)</td>\n",
       "      <td>Comedy Action Drama</td>\n",
       "    </tr>\n",
       "    <tr>\n",
       "      <th>4</th>\n",
       "      <td>5</td>\n",
       "      <td>Copycat (1995)</td>\n",
       "      <td>Thriller Crime Drama</td>\n",
       "    </tr>\n",
       "  </tbody>\n",
       "</table>\n",
       "</div>"
      ],
      "text/plain": [
       "   item_id         movie_name                         genre\n",
       "0        1   Toy Story (1995)  Comedy Children's Animation \n",
       "1        2   GoldenEye (1995)    Adventure Thriller Action \n",
       "2        3  Four Rooms (1995)                     Thriller \n",
       "3        4  Get Shorty (1995)          Comedy Action Drama \n",
       "4        5     Copycat (1995)         Thriller Crime Drama "
      ]
     },
     "execution_count": 7,
     "metadata": {},
     "output_type": "execute_result"
    }
   ],
   "source": [
    "movie_data.head()"
   ]
  },
  {
   "cell_type": "markdown",
   "metadata": {},
   "source": [
    "# Knowing the data"
   ]
  },
  {
   "cell_type": "code",
   "execution_count": 8,
   "metadata": {},
   "outputs": [
    {
     "name": "stdout",
     "output_type": "stream",
     "text": [
      "Number of users = 943 | Number of movies = 1682\n"
     ]
    }
   ],
   "source": [
    "n_users = user_data.user_id.unique().shape[0]\n",
    "n_items = user_data.item_id.unique().shape[0]\n",
    "print('Number of users = ' + str(n_users) + ' | Number of movies = ' + str(n_items))"
   ]
  },
  {
   "cell_type": "markdown",
   "metadata": {},
   "source": [
    "# Converting data into matrix"
   ]
  },
  {
   "cell_type": "code",
   "execution_count": 9,
   "metadata": {},
   "outputs": [],
   "source": [
    "data_matrix = np.zeros((n_users, n_items))\n",
    "for line in user_data.itertuples():\n",
    "    data_matrix[line[1]-1, line[2]-1] = line[3]  "
   ]
  },
  {
   "cell_type": "markdown",
   "metadata": {},
   "source": [
    "# Finding cosine similarity"
   ]
  },
  {
   "cell_type": "code",
   "execution_count": 10,
   "metadata": {
    "collapsed": true
   },
   "outputs": [],
   "source": [
    "user_similarity = 1 - pairwise_distances(data_matrix, metric='cosine')\n",
    "item_similarity = 1 - pairwise_distances(data_matrix.T, metric='cosine')"
   ]
  },
  {
   "cell_type": "markdown",
   "metadata": {},
   "source": [
    "# Creating a Rating_table"
   ]
  },
  {
   "cell_type": "code",
   "execution_count": 11,
   "metadata": {
    "collapsed": true
   },
   "outputs": [],
   "source": [
    "rating_table = pd.pivot_table(user_data, values='rating', index=['user_id'],columns=['item_id'])"
   ]
  },
  {
   "cell_type": "markdown",
   "metadata": {},
   "source": [
    "# Calculating mean of rating (user-wise and item_wise)"
   ]
  },
  {
   "cell_type": "code",
   "execution_count": 12,
   "metadata": {
    "collapsed": true
   },
   "outputs": [],
   "source": [
    "rating_table.fillna(value = 0 , inplace = True)\n",
    "mean_user_rating = rating_table.mean(axis = 1)\n",
    "mean_item_rating = rating_table.mean(axis =0)"
   ]
  },
  {
   "cell_type": "markdown",
   "metadata": {},
   "source": [
    "# Defining a K-Nearest Neighbor function"
   ]
  },
  {
   "cell_type": "code",
   "execution_count": 13,
   "metadata": {
    "collapsed": true
   },
   "outputs": [],
   "source": [
    "def knn(similarity,k = 10):\n",
    "    similarity = pd.DataFrame(similarity)\n",
    "    similarity.index = range(1,len(similarity)+1)\n",
    "    similarity.columns = range(1,len(similarity)+1)\n",
    "    lst = [] \n",
    "    item_list = []\n",
    "    lst1 = []\n",
    "    x, y = similarity.shape\n",
    "    for i in similarity:\n",
    "        u_d = similarity.ix[i]\n",
    "        u_d = u_d.sort_values(ascending = False)\n",
    "        u = pd.DataFrame(u_d.head(k+1))\n",
    "        u.reset_index(inplace = True)\n",
    "        u.columns = ['id','similarity']\n",
    "        lst.append(u.id.tolist())\n",
    "        ret = np.array(lst)\n",
    "    return ret"
   ]
  },
  {
   "cell_type": "markdown",
   "metadata": {},
   "source": [
    "# Defining a Prediction function for K nearest neighbors"
   ]
  },
  {
   "cell_type": "code",
   "execution_count": 14,
   "metadata": {
    "collapsed": true
   },
   "outputs": [],
   "source": [
    "def prediction_biased(ratings, similarity,k = 10,type = 'user'):\n",
    "    pred = np.zeros(ratings.shape)\n",
    "    if type == 'user':\n",
    "        lst = knn(similarity,k)\n",
    "        similarity = pd.DataFrame(similarity)\n",
    "        similarity.index = range(1,len(similarity)+1)\n",
    "        similarity.columns = range(1,len(similarity)+1)\n",
    "        for i in range(ratings.shape[0]):\n",
    "            u = lst[i][0]\n",
    "            for j in range(ratings.shape[1]):\n",
    "                similar_users = lst[i][1:]\n",
    "                u_mean = mean_user_rating.ix[u]\n",
    "                sum1= 0\n",
    "                simsum = 0\n",
    "                if ratings[i][j] == 0:\n",
    "                    for v in range(len(similar_users)):\n",
    "                        neigh = similar_users[v]\n",
    "                        neigh_mean =  mean_user_rating.ix[neigh]\n",
    "                        sim = similarity[u][neigh]\n",
    "                        rat = rating_table.ix[neigh,j+1]\n",
    "                        rating_diff = rat - neigh_mean\n",
    "                        sum1 += sim * rating_diff\n",
    "                        simsum += sim\n",
    "                    pred[i,j] = u_mean + sum1/simsum\n",
    "    if type == 'item':\n",
    "        lst = knn(similarity,k)\n",
    "        similarity = pd.DataFrame(similarity)\n",
    "        similarity.index = range(1,len(similarity)+1)\n",
    "        similarity.columns = range(1,len(similarity)+1)\n",
    "        for i in range(ratings.shape[1]):\n",
    "            u = lst[i][0]\n",
    "            for j in range(ratings.shape[0]):\n",
    "                similar_items = lst[i][1:]\n",
    "                u_mean = mean_item_rating.ix[u]\n",
    "                sum1 = 0\n",
    "                simsum = 0\n",
    "                if ratings[j][i] == 0:\n",
    "                    for v in range(len(similar_items)):\n",
    "                        neigh = similar_items[v]\n",
    "                        neigh_mean = mean_item_rating.ix[neigh]\n",
    "                        sim = similarity[u][neigh]\n",
    "                        rat = rating_table.ix[j+1, neigh]\n",
    "                        rating_diff = rat - neigh_mean\n",
    "                        sum1 += sim * rating_diff\n",
    "                        simsum += sim\n",
    "                    pred[j,i] = u_mean + sum1/simsum\n",
    "                \n",
    "    return pred"
   ]
  },
  {
   "cell_type": "markdown",
   "metadata": {},
   "source": [
    "# Calling user-item pediction function"
   ]
  },
  {
   "cell_type": "code",
   "execution_count": null,
   "metadata": {},
   "outputs": [],
   "source": [
    "user_prediction = prediction_biased(data_matrix, user_similarity, type='user',k = 10)"
   ]
  },
  {
   "cell_type": "markdown",
   "metadata": {},
   "source": [
    "# Caling item-item prediction function"
   ]
  },
  {
   "cell_type": "code",
   "execution_count": null,
   "metadata": {},
   "outputs": [],
   "source": [
    "item_prediction = prediction_biased(data_matrix, item_similarity, type='item',k = 10)"
   ]
  },
  {
   "cell_type": "markdown",
   "metadata": {},
   "source": [
    "# Converting matrix into DataFrame"
   ]
  },
  {
   "cell_type": "code",
   "execution_count": null,
   "metadata": {},
   "outputs": [],
   "source": [
    "u_predict = pd.DataFrame(user_prediction)\n",
    "i_predict = pd.DataFrame(item_prediction)"
   ]
  },
  {
   "cell_type": "markdown",
   "metadata": {},
   "source": [
    "# Printing User-Item prediction Rating"
   ]
  },
  {
   "cell_type": "code",
   "execution_count": 39,
   "metadata": {},
   "outputs": [
    {
     "data": {
      "text/html": [
       "<div>\n",
       "<table border=\"1\" class=\"dataframe\">\n",
       "  <thead>\n",
       "    <tr style=\"text-align: right;\">\n",
       "      <th></th>\n",
       "      <th>Toy Story (1995)</th>\n",
       "      <th>GoldenEye (1995)</th>\n",
       "      <th>Four Rooms (1995)</th>\n",
       "      <th>Get Shorty (1995)</th>\n",
       "      <th>Copycat (1995)</th>\n",
       "      <th>Shanghai Triad (Yao a yao yao dao waipo qiao) (1995)</th>\n",
       "      <th>Twelve Monkeys (1995)</th>\n",
       "      <th>Babe (1995)</th>\n",
       "      <th>Dead Man Walking (1995)</th>\n",
       "      <th>Richard III (1995)</th>\n",
       "      <th>...</th>\n",
       "      <th>Mirage (1995)</th>\n",
       "      <th>Mamma Roma (1962)</th>\n",
       "      <th>Sunchaser, The (1996)</th>\n",
       "      <th>War at Home, The (1996)</th>\n",
       "      <th>Sweet Nothing (1995)</th>\n",
       "      <th>Mat' i syn (1997)</th>\n",
       "      <th>B. Monkey (1998)</th>\n",
       "      <th>Sliding Doors (1998)</th>\n",
       "      <th>You So Crazy (1994)</th>\n",
       "      <th>Scream of Stone (Schrei aus Stein) (1991)</th>\n",
       "    </tr>\n",
       "  </thead>\n",
       "  <tbody>\n",
       "    <tr>\n",
       "      <th>1</th>\n",
       "      <td>0.000000</td>\n",
       "      <td>0.000000</td>\n",
       "      <td>0.000000</td>\n",
       "      <td>0.000000</td>\n",
       "      <td>0.000000</td>\n",
       "      <td>0.000000</td>\n",
       "      <td>0.000000</td>\n",
       "      <td>0.000000</td>\n",
       "      <td>0.000000</td>\n",
       "      <td>0.000000</td>\n",
       "      <td>...</td>\n",
       "      <td>-0.137548</td>\n",
       "      <td>-0.137548</td>\n",
       "      <td>-0.137548</td>\n",
       "      <td>-0.137548</td>\n",
       "      <td>-0.137548</td>\n",
       "      <td>-0.137548</td>\n",
       "      <td>-0.137548</td>\n",
       "      <td>-0.137548</td>\n",
       "      <td>-0.137548</td>\n",
       "      <td>0.179799</td>\n",
       "    </tr>\n",
       "    <tr>\n",
       "      <th>2</th>\n",
       "      <td>0.000000</td>\n",
       "      <td>-0.009293</td>\n",
       "      <td>0.469565</td>\n",
       "      <td>-0.009293</td>\n",
       "      <td>-0.009293</td>\n",
       "      <td>0.366053</td>\n",
       "      <td>2.103975</td>\n",
       "      <td>-0.009293</td>\n",
       "      <td>2.882656</td>\n",
       "      <td>0.000000</td>\n",
       "      <td>...</td>\n",
       "      <td>-0.009293</td>\n",
       "      <td>-0.009293</td>\n",
       "      <td>-0.009293</td>\n",
       "      <td>-0.009293</td>\n",
       "      <td>-0.009293</td>\n",
       "      <td>-0.009293</td>\n",
       "      <td>-0.009293</td>\n",
       "      <td>-0.009293</td>\n",
       "      <td>-0.009293</td>\n",
       "      <td>-0.009293</td>\n",
       "    </tr>\n",
       "    <tr>\n",
       "      <th>3</th>\n",
       "      <td>-0.033077</td>\n",
       "      <td>-0.033077</td>\n",
       "      <td>-0.033077</td>\n",
       "      <td>-0.033077</td>\n",
       "      <td>-0.033077</td>\n",
       "      <td>-0.033077</td>\n",
       "      <td>-0.033077</td>\n",
       "      <td>-0.033077</td>\n",
       "      <td>-0.033077</td>\n",
       "      <td>-0.033077</td>\n",
       "      <td>...</td>\n",
       "      <td>-0.033077</td>\n",
       "      <td>-0.033077</td>\n",
       "      <td>-0.033077</td>\n",
       "      <td>-0.033077</td>\n",
       "      <td>-0.033077</td>\n",
       "      <td>0.071971</td>\n",
       "      <td>0.282067</td>\n",
       "      <td>0.177019</td>\n",
       "      <td>-0.033077</td>\n",
       "      <td>-0.033077</td>\n",
       "    </tr>\n",
       "    <tr>\n",
       "      <th>4</th>\n",
       "      <td>-0.026085</td>\n",
       "      <td>-0.026085</td>\n",
       "      <td>-0.026085</td>\n",
       "      <td>-0.026085</td>\n",
       "      <td>-0.026085</td>\n",
       "      <td>-0.026085</td>\n",
       "      <td>-0.026085</td>\n",
       "      <td>-0.026085</td>\n",
       "      <td>-0.026085</td>\n",
       "      <td>-0.026085</td>\n",
       "      <td>...</td>\n",
       "      <td>-0.026085</td>\n",
       "      <td>-0.026085</td>\n",
       "      <td>-0.026085</td>\n",
       "      <td>-0.026085</td>\n",
       "      <td>-0.026085</td>\n",
       "      <td>0.069255</td>\n",
       "      <td>0.259936</td>\n",
       "      <td>0.164595</td>\n",
       "      <td>-0.026085</td>\n",
       "      <td>-0.026085</td>\n",
       "    </tr>\n",
       "    <tr>\n",
       "      <th>5</th>\n",
       "      <td>0.000000</td>\n",
       "      <td>0.000000</td>\n",
       "      <td>0.530272</td>\n",
       "      <td>2.313243</td>\n",
       "      <td>0.243456</td>\n",
       "      <td>-0.169787</td>\n",
       "      <td>3.008860</td>\n",
       "      <td>0.932118</td>\n",
       "      <td>0.327618</td>\n",
       "      <td>0.612112</td>\n",
       "      <td>...</td>\n",
       "      <td>-0.169787</td>\n",
       "      <td>-0.169787</td>\n",
       "      <td>-0.169787</td>\n",
       "      <td>-0.169787</td>\n",
       "      <td>-0.169787</td>\n",
       "      <td>-0.169787</td>\n",
       "      <td>-0.169787</td>\n",
       "      <td>-0.169787</td>\n",
       "      <td>-0.169787</td>\n",
       "      <td>-0.169787</td>\n",
       "    </tr>\n",
       "  </tbody>\n",
       "</table>\n",
       "<p>5 rows × 1682 columns</p>\n",
       "</div>"
      ],
      "text/plain": [
       "   Toy Story (1995)  GoldenEye (1995)  Four Rooms (1995)  Get Shorty (1995)  \\\n",
       "1          0.000000          0.000000           0.000000           0.000000   \n",
       "2          0.000000         -0.009293           0.469565          -0.009293   \n",
       "3         -0.033077         -0.033077          -0.033077          -0.033077   \n",
       "4         -0.026085         -0.026085          -0.026085          -0.026085   \n",
       "5          0.000000          0.000000           0.530272           2.313243   \n",
       "\n",
       "   Copycat (1995)  Shanghai Triad (Yao a yao yao dao waipo qiao) (1995)  \\\n",
       "1        0.000000                                           0.000000      \n",
       "2       -0.009293                                           0.366053      \n",
       "3       -0.033077                                          -0.033077      \n",
       "4       -0.026085                                          -0.026085      \n",
       "5        0.243456                                          -0.169787      \n",
       "\n",
       "   Twelve Monkeys (1995)  Babe (1995)  Dead Man Walking (1995)  \\\n",
       "1               0.000000     0.000000                 0.000000   \n",
       "2               2.103975    -0.009293                 2.882656   \n",
       "3              -0.033077    -0.033077                -0.033077   \n",
       "4              -0.026085    -0.026085                -0.026085   \n",
       "5               3.008860     0.932118                 0.327618   \n",
       "\n",
       "   Richard III (1995)                    ...                      \\\n",
       "1            0.000000                    ...                       \n",
       "2            0.000000                    ...                       \n",
       "3           -0.033077                    ...                       \n",
       "4           -0.026085                    ...                       \n",
       "5            0.612112                    ...                       \n",
       "\n",
       "   Mirage (1995)  Mamma Roma (1962)  Sunchaser, The (1996)  \\\n",
       "1      -0.137548          -0.137548              -0.137548   \n",
       "2      -0.009293          -0.009293              -0.009293   \n",
       "3      -0.033077          -0.033077              -0.033077   \n",
       "4      -0.026085          -0.026085              -0.026085   \n",
       "5      -0.169787          -0.169787              -0.169787   \n",
       "\n",
       "   War at Home, The (1996)  Sweet Nothing (1995)  Mat' i syn (1997)  \\\n",
       "1                -0.137548             -0.137548          -0.137548   \n",
       "2                -0.009293             -0.009293          -0.009293   \n",
       "3                -0.033077             -0.033077           0.071971   \n",
       "4                -0.026085             -0.026085           0.069255   \n",
       "5                -0.169787             -0.169787          -0.169787   \n",
       "\n",
       "   B. Monkey (1998)  Sliding Doors (1998)  You So Crazy (1994)  \\\n",
       "1         -0.137548             -0.137548            -0.137548   \n",
       "2         -0.009293             -0.009293            -0.009293   \n",
       "3          0.282067              0.177019            -0.033077   \n",
       "4          0.259936              0.164595            -0.026085   \n",
       "5         -0.169787             -0.169787            -0.169787   \n",
       "\n",
       "   Scream of Stone (Schrei aus Stein) (1991)  \n",
       "1                                   0.179799  \n",
       "2                                  -0.009293  \n",
       "3                                  -0.033077  \n",
       "4                                  -0.026085  \n",
       "5                                  -0.169787  \n",
       "\n",
       "[5 rows x 1682 columns]"
      ]
     },
     "execution_count": 39,
     "metadata": {},
     "output_type": "execute_result"
    }
   ],
   "source": [
    "u_predict.index = range(1,944)\n",
    "u_predict.columns = range(1,1683)\n",
    "u_predict.columns = movie_data.movie_name.tolist()\n",
    "u_predict.head()"
   ]
  },
  {
   "cell_type": "markdown",
   "metadata": {},
   "source": [
    "# Printing Item-Item prediction Rating"
   ]
  },
  {
   "cell_type": "code",
   "execution_count": 40,
   "metadata": {},
   "outputs": [
    {
     "data": {
      "text/html": [
       "<div>\n",
       "<table border=\"1\" class=\"dataframe\">\n",
       "  <thead>\n",
       "    <tr style=\"text-align: right;\">\n",
       "      <th></th>\n",
       "      <th>Toy Story (1995)</th>\n",
       "      <th>GoldenEye (1995)</th>\n",
       "      <th>Four Rooms (1995)</th>\n",
       "      <th>Get Shorty (1995)</th>\n",
       "      <th>Copycat (1995)</th>\n",
       "      <th>Shanghai Triad (Yao a yao yao dao waipo qiao) (1995)</th>\n",
       "      <th>Twelve Monkeys (1995)</th>\n",
       "      <th>Babe (1995)</th>\n",
       "      <th>Dead Man Walking (1995)</th>\n",
       "      <th>Richard III (1995)</th>\n",
       "      <th>...</th>\n",
       "      <th>Mirage (1995)</th>\n",
       "      <th>Mamma Roma (1962)</th>\n",
       "      <th>Sunchaser, The (1996)</th>\n",
       "      <th>War at Home, The (1996)</th>\n",
       "      <th>Sweet Nothing (1995)</th>\n",
       "      <th>Mat' i syn (1997)</th>\n",
       "      <th>B. Monkey (1998)</th>\n",
       "      <th>Sliding Doors (1998)</th>\n",
       "      <th>You So Crazy (1994)</th>\n",
       "      <th>Scream of Stone (Schrei aus Stein) (1991)</th>\n",
       "    </tr>\n",
       "  </thead>\n",
       "  <tbody>\n",
       "    <tr>\n",
       "      <th>1</th>\n",
       "      <td>0.000000</td>\n",
       "      <td>0.000000</td>\n",
       "      <td>0.000000</td>\n",
       "      <td>0.000000</td>\n",
       "      <td>0.000000</td>\n",
       "      <td>0.000000</td>\n",
       "      <td>0.000000</td>\n",
       "      <td>0.000000</td>\n",
       "      <td>0.000000</td>\n",
       "      <td>0.000000</td>\n",
       "      <td>...</td>\n",
       "      <td>-0.129562</td>\n",
       "      <td>-0.081495</td>\n",
       "      <td>-0.025971</td>\n",
       "      <td>-0.025971</td>\n",
       "      <td>-0.050508</td>\n",
       "      <td>-0.013023</td>\n",
       "      <td>-0.013023</td>\n",
       "      <td>-0.013023</td>\n",
       "      <td>-0.013368</td>\n",
       "      <td>-0.041231</td>\n",
       "    </tr>\n",
       "    <tr>\n",
       "      <th>2</th>\n",
       "      <td>0.000000</td>\n",
       "      <td>-0.178266</td>\n",
       "      <td>-0.250947</td>\n",
       "      <td>-0.587993</td>\n",
       "      <td>-0.341219</td>\n",
       "      <td>0.352383</td>\n",
       "      <td>1.239781</td>\n",
       "      <td>-0.455687</td>\n",
       "      <td>2.374202</td>\n",
       "      <td>0.000000</td>\n",
       "      <td>...</td>\n",
       "      <td>-0.129562</td>\n",
       "      <td>0.161772</td>\n",
       "      <td>-0.025971</td>\n",
       "      <td>-0.025971</td>\n",
       "      <td>-0.050508</td>\n",
       "      <td>-0.013023</td>\n",
       "      <td>-0.013023</td>\n",
       "      <td>-0.013023</td>\n",
       "      <td>-0.013368</td>\n",
       "      <td>-0.041231</td>\n",
       "    </tr>\n",
       "    <tr>\n",
       "      <th>3</th>\n",
       "      <td>0.527663</td>\n",
       "      <td>-0.178266</td>\n",
       "      <td>-0.250947</td>\n",
       "      <td>-0.587993</td>\n",
       "      <td>-0.341219</td>\n",
       "      <td>-0.028701</td>\n",
       "      <td>0.173250</td>\n",
       "      <td>-0.455687</td>\n",
       "      <td>-0.402125</td>\n",
       "      <td>-0.388790</td>\n",
       "      <td>...</td>\n",
       "      <td>-0.129562</td>\n",
       "      <td>-0.081495</td>\n",
       "      <td>0.043391</td>\n",
       "      <td>0.043391</td>\n",
       "      <td>-0.050508</td>\n",
       "      <td>-0.013023</td>\n",
       "      <td>-0.013023</td>\n",
       "      <td>-0.013023</td>\n",
       "      <td>-0.013368</td>\n",
       "      <td>-0.041231</td>\n",
       "    </tr>\n",
       "    <tr>\n",
       "      <th>4</th>\n",
       "      <td>0.660320</td>\n",
       "      <td>-0.178266</td>\n",
       "      <td>-0.250947</td>\n",
       "      <td>-0.587993</td>\n",
       "      <td>-0.341219</td>\n",
       "      <td>-0.028701</td>\n",
       "      <td>0.293884</td>\n",
       "      <td>-0.455687</td>\n",
       "      <td>0.077312</td>\n",
       "      <td>-0.388790</td>\n",
       "      <td>...</td>\n",
       "      <td>-0.129562</td>\n",
       "      <td>-0.081495</td>\n",
       "      <td>-0.025971</td>\n",
       "      <td>-0.025971</td>\n",
       "      <td>-0.050508</td>\n",
       "      <td>0.349701</td>\n",
       "      <td>0.349701</td>\n",
       "      <td>0.349701</td>\n",
       "      <td>-0.013368</td>\n",
       "      <td>-0.041231</td>\n",
       "    </tr>\n",
       "    <tr>\n",
       "      <th>5</th>\n",
       "      <td>0.000000</td>\n",
       "      <td>0.000000</td>\n",
       "      <td>1.439409</td>\n",
       "      <td>1.601595</td>\n",
       "      <td>0.649494</td>\n",
       "      <td>-0.028701</td>\n",
       "      <td>2.887082</td>\n",
       "      <td>2.462425</td>\n",
       "      <td>1.217198</td>\n",
       "      <td>0.070559</td>\n",
       "      <td>...</td>\n",
       "      <td>-0.046278</td>\n",
       "      <td>-0.081495</td>\n",
       "      <td>-0.025971</td>\n",
       "      <td>-0.025971</td>\n",
       "      <td>-0.050508</td>\n",
       "      <td>-0.013023</td>\n",
       "      <td>-0.013023</td>\n",
       "      <td>-0.013023</td>\n",
       "      <td>-0.013368</td>\n",
       "      <td>-0.041231</td>\n",
       "    </tr>\n",
       "  </tbody>\n",
       "</table>\n",
       "<p>5 rows × 1682 columns</p>\n",
       "</div>"
      ],
      "text/plain": [
       "   Toy Story (1995)  GoldenEye (1995)  Four Rooms (1995)  Get Shorty (1995)  \\\n",
       "1          0.000000          0.000000           0.000000           0.000000   \n",
       "2          0.000000         -0.178266          -0.250947          -0.587993   \n",
       "3          0.527663         -0.178266          -0.250947          -0.587993   \n",
       "4          0.660320         -0.178266          -0.250947          -0.587993   \n",
       "5          0.000000          0.000000           1.439409           1.601595   \n",
       "\n",
       "   Copycat (1995)  Shanghai Triad (Yao a yao yao dao waipo qiao) (1995)  \\\n",
       "1        0.000000                                           0.000000      \n",
       "2       -0.341219                                           0.352383      \n",
       "3       -0.341219                                          -0.028701      \n",
       "4       -0.341219                                          -0.028701      \n",
       "5        0.649494                                          -0.028701      \n",
       "\n",
       "   Twelve Monkeys (1995)  Babe (1995)  Dead Man Walking (1995)  \\\n",
       "1               0.000000     0.000000                 0.000000   \n",
       "2               1.239781    -0.455687                 2.374202   \n",
       "3               0.173250    -0.455687                -0.402125   \n",
       "4               0.293884    -0.455687                 0.077312   \n",
       "5               2.887082     2.462425                 1.217198   \n",
       "\n",
       "   Richard III (1995)                    ...                      \\\n",
       "1            0.000000                    ...                       \n",
       "2            0.000000                    ...                       \n",
       "3           -0.388790                    ...                       \n",
       "4           -0.388790                    ...                       \n",
       "5            0.070559                    ...                       \n",
       "\n",
       "   Mirage (1995)  Mamma Roma (1962)  Sunchaser, The (1996)  \\\n",
       "1      -0.129562          -0.081495              -0.025971   \n",
       "2      -0.129562           0.161772              -0.025971   \n",
       "3      -0.129562          -0.081495               0.043391   \n",
       "4      -0.129562          -0.081495              -0.025971   \n",
       "5      -0.046278          -0.081495              -0.025971   \n",
       "\n",
       "   War at Home, The (1996)  Sweet Nothing (1995)  Mat' i syn (1997)  \\\n",
       "1                -0.025971             -0.050508          -0.013023   \n",
       "2                -0.025971             -0.050508          -0.013023   \n",
       "3                 0.043391             -0.050508          -0.013023   \n",
       "4                -0.025971             -0.050508           0.349701   \n",
       "5                -0.025971             -0.050508          -0.013023   \n",
       "\n",
       "   B. Monkey (1998)  Sliding Doors (1998)  You So Crazy (1994)  \\\n",
       "1         -0.013023             -0.013023            -0.013368   \n",
       "2         -0.013023             -0.013023            -0.013368   \n",
       "3         -0.013023             -0.013023            -0.013368   \n",
       "4          0.349701              0.349701            -0.013368   \n",
       "5         -0.013023             -0.013023            -0.013368   \n",
       "\n",
       "   Scream of Stone (Schrei aus Stein) (1991)  \n",
       "1                                  -0.041231  \n",
       "2                                  -0.041231  \n",
       "3                                  -0.041231  \n",
       "4                                  -0.041231  \n",
       "5                                  -0.041231  \n",
       "\n",
       "[5 rows x 1682 columns]"
      ]
     },
     "execution_count": 40,
     "metadata": {},
     "output_type": "execute_result"
    }
   ],
   "source": [
    "i_predict.index = range(1,944)\n",
    "i_predict.columns = range(1,1683)\n",
    "i_predict.columns = movie_data.movie_name.tolist()\n",
    "i_predict.head()"
   ]
  },
  {
   "cell_type": "markdown",
   "metadata": {},
   "source": [
    "# Defining a method to recommend movies to user"
   ]
  },
  {
   "cell_type": "code",
   "execution_count": 83,
   "metadata": {},
   "outputs": [],
   "source": [
    "def recommend(user_id):\n",
    "    alpha1 = user_prediction[user_id]\n",
    "    movie_ = []\n",
    "    rating_ =[]\n",
    "    movie_id =[]\n",
    "    genre = []\n",
    "    for k in alpha1.nonzero():\n",
    "        movie_.append(movie_data.movie_name[k])\n",
    "        rating_.append(alpha1[alpha1.nonzero()])\n",
    "        movie_id.append(k)\n",
    "        genre.append(movie_data.genre[k])\n",
    "    movie_names = pd.DataFrame(movie_).T\n",
    "    rating_ = pd.DataFrame(rating_).T\n",
    "    movie_id = pd.DataFrame(movie_id).T\n",
    "    movie_genre = pd.DataFrame(genre).T \n",
    "    movie_genre.reset_index(inplace= True)\n",
    "    movie_genre.drop(['index'],axis =1,inplace= True)\n",
    "    movie_names.reset_index(inplace = True)\n",
    "    movie_names.drop(['index'],axis = 1,inplace= True)\n",
    "    movie_names = movie_names.join(rating_)\n",
    "    movie_names = movie_names.join(movie_id,rsuffix='_x')\n",
    "    movie_names = movie_names.join(movie_genre)\n",
    "    movie_names.columns = ['movie','pred_rating','movie_id','genre']\n",
    "    movie_names.sort_values(by =['pred_rating'],ascending= False,inplace= True)\n",
    "    recommended = pd.DataFrame(movie_names.head(10))\n",
    "    return recommended"
   ]
  },
  {
   "cell_type": "markdown",
   "metadata": {},
   "source": [
    "# Testing the recommendation model"
   ]
  },
  {
   "cell_type": "code",
   "execution_count": 84,
   "metadata": {},
   "outputs": [
    {
     "data": {
      "text/html": [
       "<div>\n",
       "<table border=\"1\" class=\"dataframe\">\n",
       "  <thead>\n",
       "    <tr style=\"text-align: right;\">\n",
       "      <th></th>\n",
       "      <th>movie</th>\n",
       "      <th>pred_rating</th>\n",
       "      <th>movie_id</th>\n",
       "      <th>genre</th>\n",
       "    </tr>\n",
       "  </thead>\n",
       "  <tbody>\n",
       "    <tr>\n",
       "      <th>114</th>\n",
       "      <td>Lone Star (1996)</td>\n",
       "      <td>3.121669</td>\n",
       "      <td>123</td>\n",
       "      <td>Mystery Drama</td>\n",
       "    </tr>\n",
       "    <tr>\n",
       "      <th>170</th>\n",
       "      <td>Return of the Jedi (1983)</td>\n",
       "      <td>3.072577</td>\n",
       "      <td>180</td>\n",
       "      <td>Adventure Sci-Fi Action War Romance</td>\n",
       "    </tr>\n",
       "    <tr>\n",
       "      <th>7</th>\n",
       "      <td>Dead Man Walking (1995)</td>\n",
       "      <td>2.882656</td>\n",
       "      <td>8</td>\n",
       "      <td>Drama</td>\n",
       "    </tr>\n",
       "    <tr>\n",
       "      <th>452</th>\n",
       "      <td>Boot, Das (1981)</td>\n",
       "      <td>2.838558</td>\n",
       "      <td>514</td>\n",
       "      <td>Action Drama War</td>\n",
       "    </tr>\n",
       "    <tr>\n",
       "      <th>270</th>\n",
       "      <td>Game, The (1997)</td>\n",
       "      <td>2.399017</td>\n",
       "      <td>332</td>\n",
       "      <td>Thriller Mystery</td>\n",
       "    </tr>\n",
       "    <tr>\n",
       "      <th>681</th>\n",
       "      <td>Michael Collins (1996)</td>\n",
       "      <td>2.262164</td>\n",
       "      <td>743</td>\n",
       "      <td>Drama War</td>\n",
       "    </tr>\n",
       "    <tr>\n",
       "      <th>627</th>\n",
       "      <td>Seven Years in Tibet (1997)</td>\n",
       "      <td>2.225163</td>\n",
       "      <td>689</td>\n",
       "      <td>Drama War</td>\n",
       "    </tr>\n",
       "    <tr>\n",
       "      <th>687</th>\n",
       "      <td>Amistad (1997)</td>\n",
       "      <td>2.107137</td>\n",
       "      <td>749</td>\n",
       "      <td>Drama</td>\n",
       "    </tr>\n",
       "    <tr>\n",
       "      <th>5</th>\n",
       "      <td>Twelve Monkeys (1995)</td>\n",
       "      <td>2.103975</td>\n",
       "      <td>6</td>\n",
       "      <td>Sci-Fi Drama</td>\n",
       "    </tr>\n",
       "    <tr>\n",
       "      <th>232</th>\n",
       "      <td>Devil's Own, The (1997)</td>\n",
       "      <td>2.055677</td>\n",
       "      <td>244</td>\n",
       "      <td>Thriller Action Drama War</td>\n",
       "    </tr>\n",
       "  </tbody>\n",
       "</table>\n",
       "</div>"
      ],
      "text/plain": [
       "                           movie  pred_rating  movie_id  \\\n",
       "114             Lone Star (1996)     3.121669       123   \n",
       "170    Return of the Jedi (1983)     3.072577       180   \n",
       "7        Dead Man Walking (1995)     2.882656         8   \n",
       "452             Boot, Das (1981)     2.838558       514   \n",
       "270             Game, The (1997)     2.399017       332   \n",
       "681       Michael Collins (1996)     2.262164       743   \n",
       "627  Seven Years in Tibet (1997)     2.225163       689   \n",
       "687               Amistad (1997)     2.107137       749   \n",
       "5          Twelve Monkeys (1995)     2.103975         6   \n",
       "232      Devil's Own, The (1997)     2.055677       244   \n",
       "\n",
       "                                    genre  \n",
       "114                        Mystery Drama   \n",
       "170  Adventure Sci-Fi Action War Romance   \n",
       "7                                  Drama   \n",
       "452                     Action Drama War   \n",
       "270                     Thriller Mystery   \n",
       "681                            Drama War   \n",
       "627                            Drama War   \n",
       "687                                Drama   \n",
       "5                           Sci-Fi Drama   \n",
       "232            Thriller Action Drama War   "
      ]
     },
     "execution_count": 84,
     "metadata": {},
     "output_type": "execute_result"
    }
   ],
   "source": [
    "recommend = recommend(1)\n",
    "recommend"
   ]
  },
  {
   "cell_type": "code",
   "execution_count": 85,
   "metadata": {},
   "outputs": [
    {
     "data": {
      "text/html": [
       "<div>\n",
       "<table border=\"1\" class=\"dataframe\">\n",
       "  <thead>\n",
       "    <tr style=\"text-align: right;\">\n",
       "      <th></th>\n",
       "      <th>pred_rating</th>\n",
       "    </tr>\n",
       "    <tr>\n",
       "      <th>movie</th>\n",
       "      <th></th>\n",
       "    </tr>\n",
       "  </thead>\n",
       "  <tbody>\n",
       "    <tr>\n",
       "      <th>Lone Star (1996)</th>\n",
       "      <td>3.121669</td>\n",
       "    </tr>\n",
       "    <tr>\n",
       "      <th>Return of the Jedi (1983)</th>\n",
       "      <td>3.072577</td>\n",
       "    </tr>\n",
       "    <tr>\n",
       "      <th>Dead Man Walking (1995)</th>\n",
       "      <td>2.882656</td>\n",
       "    </tr>\n",
       "    <tr>\n",
       "      <th>Boot, Das (1981)</th>\n",
       "      <td>2.838558</td>\n",
       "    </tr>\n",
       "    <tr>\n",
       "      <th>Game, The (1997)</th>\n",
       "      <td>2.399017</td>\n",
       "    </tr>\n",
       "    <tr>\n",
       "      <th>Michael Collins (1996)</th>\n",
       "      <td>2.262164</td>\n",
       "    </tr>\n",
       "    <tr>\n",
       "      <th>Seven Years in Tibet (1997)</th>\n",
       "      <td>2.225163</td>\n",
       "    </tr>\n",
       "    <tr>\n",
       "      <th>Amistad (1997)</th>\n",
       "      <td>2.107137</td>\n",
       "    </tr>\n",
       "    <tr>\n",
       "      <th>Twelve Monkeys (1995)</th>\n",
       "      <td>2.103975</td>\n",
       "    </tr>\n",
       "    <tr>\n",
       "      <th>Devil's Own, The (1997)</th>\n",
       "      <td>2.055677</td>\n",
       "    </tr>\n",
       "  </tbody>\n",
       "</table>\n",
       "</div>"
      ],
      "text/plain": [
       "                             pred_rating\n",
       "movie                                   \n",
       "Lone Star (1996)                3.121669\n",
       "Return of the Jedi (1983)       3.072577\n",
       "Dead Man Walking (1995)         2.882656\n",
       "Boot, Das (1981)                2.838558\n",
       "Game, The (1997)                2.399017\n",
       "Michael Collins (1996)          2.262164\n",
       "Seven Years in Tibet (1997)     2.225163\n",
       "Amistad (1997)                  2.107137\n",
       "Twelve Monkeys (1995)           2.103975\n",
       "Devil's Own, The (1997)         2.055677"
      ]
     },
     "execution_count": 85,
     "metadata": {},
     "output_type": "execute_result"
    }
   ],
   "source": [
    "recommend_graph = recommend.drop(['movie_id','genre'],axis = 1)\n",
    "movie_list = recommend.movie.tolist()\n",
    "recommend_graph.reset_index(inplace= True)\n",
    "recommend_graph = recommend_graph.drop(['index'],axis = 1)\n",
    "recommend_graph = recommend_graph.set_index(['movie'])\n",
    "recommend_graph"
   ]
  },
  {
   "cell_type": "code",
   "execution_count": 86,
   "metadata": {},
   "outputs": [
    {
     "data": {
      "image/png": "[encoded data removed]",
      "text/plain": [
       "<matplotlib.figure.Figure at 0x7f30a2a5cf60>"
      ]
     },
     "metadata": {},
     "output_type": "display_data"
    }
   ],
   "source": [
    "recommend_graph.plot(kind = 'bar',legend = movie_list)\n",
    "plt.show()"
   ]
  },
  {
   "cell_type": "code",
   "execution_count": 77,
   "metadata": {},
   "outputs": [],
   "source": [
    "def watched(user_id):\n",
    "    alpha1 = data_matrix[user_id]\n",
    "    movie_ = []\n",
    "    rating_ =[]\n",
    "    movie_id =[]\n",
    "    genre = []\n",
    "    for k in alpha1.nonzero():\n",
    "        movie_.append(movie_data.movie_name[k])\n",
    "        rating_.append(alpha1[alpha1.nonzero()])\n",
    "        movie_id.append(k)\n",
    "        genre.append(movie_data.genre[k])\n",
    "    movie_names = pd.DataFrame(movie_).T\n",
    "    rating_ = pd.DataFrame(rating_).T\n",
    "    movie_id = pd.DataFrame(movie_id).T\n",
    "    movie_genre = pd.DataFrame(genre).T \n",
    "    movie_genre.reset_index(inplace= True)\n",
    "    movie_genre.drop(['index'],axis =1,inplace= True)\n",
    "    movie_names.reset_index(inplace = True)\n",
    "    movie_names.drop(['index'],axis = 1,inplace= True)\n",
    "    movie_names = movie_names.join(rating_)\n",
    "    movie_names = movie_names.join(movie_id,rsuffix='_x')\n",
    "    movie_names = movie_names.join(movie_genre)\n",
    "    movie_names.columns = ['movie','given_rating','movie_id','genre']\n",
    "    movie_names.sort_values(by =['given_rating'],ascending= False,inplace= True)\n",
    "    watch = pd.DataFrame(movie_names.head(10))\n",
    "    return watch"
   ]
  },
  {
   "cell_type": "code",
   "execution_count": 87,
   "metadata": {},
   "outputs": [
    {
     "data": {
      "text/html": [
       "<div>\n",
       "<table border=\"1\" class=\"dataframe\">\n",
       "  <thead>\n",
       "    <tr style=\"text-align: right;\">\n",
       "      <th></th>\n",
       "      <th>given_rating</th>\n",
       "    </tr>\n",
       "    <tr>\n",
       "      <th>movie</th>\n",
       "      <th></th>\n",
       "    </tr>\n",
       "  </thead>\n",
       "  <tbody>\n",
       "    <tr>\n",
       "      <th>As Good As It Gets (1997)</th>\n",
       "      <td>5.0</td>\n",
       "    </tr>\n",
       "    <tr>\n",
       "      <th>Godfather, The (1972)</th>\n",
       "      <td>5.0</td>\n",
       "    </tr>\n",
       "    <tr>\n",
       "      <th>Secrets &amp; Lies (1996)</th>\n",
       "      <td>5.0</td>\n",
       "    </tr>\n",
       "    <tr>\n",
       "      <th>Sense and Sensibility (1995)</th>\n",
       "      <td>5.0</td>\n",
       "    </tr>\n",
       "    <tr>\n",
       "      <th>Good Will Hunting (1997)</th>\n",
       "      <td>5.0</td>\n",
       "    </tr>\n",
       "    <tr>\n",
       "      <th>Shall We Dance? (1996)</th>\n",
       "      <td>5.0</td>\n",
       "    </tr>\n",
       "    <tr>\n",
       "      <th>Kolya (1996)</th>\n",
       "      <td>5.0</td>\n",
       "    </tr>\n",
       "    <tr>\n",
       "      <th>L.A. Confidential (1997)</th>\n",
       "      <td>5.0</td>\n",
       "    </tr>\n",
       "    <tr>\n",
       "      <th>Emma (1996)</th>\n",
       "      <td>5.0</td>\n",
       "    </tr>\n",
       "    <tr>\n",
       "      <th>Star Wars (1977)</th>\n",
       "      <td>5.0</td>\n",
       "    </tr>\n",
       "  </tbody>\n",
       "</table>\n",
       "</div>"
      ],
      "text/plain": [
       "                              given_rating\n",
       "movie                                     \n",
       "As Good As It Gets (1997)              5.0\n",
       "Godfather, The (1972)                  5.0\n",
       "Secrets & Lies (1996)                  5.0\n",
       "Sense and Sensibility (1995)           5.0\n",
       "Good Will Hunting (1997)               5.0\n",
       "Shall We Dance? (1996)                 5.0\n",
       "Kolya (1996)                           5.0\n",
       "L.A. Confidential (1997)               5.0\n",
       "Emma (1996)                            5.0\n",
       "Star Wars (1977)                       5.0"
      ]
     },
     "execution_count": 87,
     "metadata": {},
     "output_type": "execute_result"
    }
   ],
   "source": [
    "watch = pd.DataFrame()\n",
    "watch = watched(1)\n",
    "watched_graph = watch.drop(['movie_id','genre'],axis = 1)\n",
    "movie_list = watch.movie.tolist()\n",
    "watched_graph.reset_index(inplace= True)\n",
    "watched_graph = watched_graph.drop(['index'],axis = 1)\n",
    "watched_graph = watched_graph.set_index(['movie'])\n",
    "watched_graph"
   ]
  },
  {
   "cell_type": "code",
   "execution_count": 88,
   "metadata": {},
   "outputs": [
    {
     "data": {
      "image/png": "[encoded data removed]",
      "text/plain": [
       "<matplotlib.figure.Figure at 0x7f30a2b3ed30>"
      ]
     },
     "metadata": {},
     "output_type": "display_data"
    }
   ],
   "source": [
    "watched_graph.plot(kind = 'bar',legend = movie_list)\n",
    "plt.show()"
   ]
  }
 ],
 "metadata": {
  "kernelspec": {
   "display_name": "Python [default]",
   "language": "python",
   "name": "python3"
  },
  "language_info": {
   "codemirror_mode": {
    "name": "ipython",
    "version": 3
   },
   "file_extension": ".py",
   "mimetype": "text/x-python",
   "name": "python",
   "nbconvert_exporter": "python",
   "pygments_lexer": "ipython3",
   "version": "3.5.3"
  }
 },
 "nbformat": 4,
 "nbformat_minor": 2
}
